{
 "cells": [
  {
   "cell_type": "code",
   "execution_count": 2,
   "id": "7baa1c05-8cbd-436a-ab7e-e99915609bcb",
   "metadata": {
    "tags": []
   },
   "outputs": [
    {
     "name": "stdout",
     "output_type": "stream",
     "text": [
      "Conversion complete! File saved as mcc_codes.csv\n"
     ]
    }
   ],
   "source": [
    "import json\n",
    "import pandas as pd\n",
    "\n",
    "# Load JSON file\n",
    "with open(\"mcc_codes.json\", \"r\") as f:\n",
    "    mcc_data = json.load(f)\n",
    "\n",
    "# Convert dictionary to DataFrame\n",
    "mcc_df = pd.DataFrame(list(mcc_data.items()), columns=[\"mcc_code\", \"mcc_name\"])\n",
    "\n",
    "# Save as CSV\n",
    "mcc_df.to_csv(\"mcc_codes.csv\", index=False)\n",
    "\n",
    "print(\"Conversion complete! File saved as mcc_codes.csv\")"
   ]
  },
  {
   "cell_type": "code",
   "execution_count": null,
   "id": "d6b1f4f9-f1d8-490d-b93f-e29d5149d666",
   "metadata": {},
   "outputs": [],
   "source": []
  }
 ],
 "metadata": {
  "kernelspec": {
   "display_name": "Python 3 (ipykernel)",
   "language": "python",
   "name": "python3"
  },
  "language_info": {
   "codemirror_mode": {
    "name": "ipython",
    "version": 3
   },
   "file_extension": ".py",
   "mimetype": "text/x-python",
   "name": "python",
   "nbconvert_exporter": "python",
   "pygments_lexer": "ipython3",
   "version": "3.11.5"
  }
 },
 "nbformat": 4,
 "nbformat_minor": 5
}
