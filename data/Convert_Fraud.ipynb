{
 "cells": [
  {
   "cell_type": "code",
   "execution_count": null,
   "id": "7baa1c05-8cbd-436a-ab7e-e99915609bcb",
   "metadata": {
    "tags": []
   },
   "outputs": [
    {
     "name": "stdout",
     "output_type": "stream",
     "text": [
      "Conversion complete! File saved as mcc_codes.csv\n"
     ]
    }
   ],
   "source": [
    "import json\n",
    "import pandas as pd\n",
    "\n",
    "# Load JSON file\n",
    "with open(\"train_fraud_labels.json\", \"r\") as f:\n",
    "    fraud_data = json.load(f)\n",
    "\n",
    "# Convert dictionary to DataFrame\n",
    "fraud_df = pd.DataFrame(list(fraud_data.items()), columns=[\"root\", \"target\"])\n",
    "\n",
    "# Save as CSV\n",
    "fraud_df.to_csv(\"fraud_labels.csv\", index=False)\n",
    "\n",
    "print(\"Conversion complete! File saved as fraud_labels.csv\")"
   ]
  },
  {
   "cell_type": "markdown",
   "id": "26dacecc",
   "metadata": {},
   "source": []
  }
 ],
 "metadata": {
  "kernelspec": {
   "display_name": "Python 3 (ipykernel)",
   "language": "python",
   "name": "python3"
  },
  "language_info": {
   "codemirror_mode": {
    "name": "ipython",
    "version": 3
   },
   "file_extension": ".py",
   "mimetype": "text/x-python",
   "name": "python",
   "nbconvert_exporter": "python",
   "pygments_lexer": "ipython3",
   "version": "3.11.5"
  }
 },
 "nbformat": 4,
 "nbformat_minor": 5
}
